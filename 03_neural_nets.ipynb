{
 "cells": [
  {
   "cell_type": "markdown",
   "metadata": {},
   "source": [
    "Define the neural net as a `class` and a method `forward(input)` that returns the output."
   ]
  },
  {
   "cell_type": "markdown",
   "metadata": {},
   "source": [
    "A typical training procedure for a neural network is as follows:\n",
    "\n",
    "- Define the neural network that has some learnable parameters (or weights)\n",
    "- Iterate over a dataset of inputs\n",
    "- Process input through the network\n",
    "- Compute the loss (how far is the output from being correct)\n",
    "- Propagate gradients back into the network’s parameters\n",
    "- Update the weights of the network, typically using a simple update rule: `weight = weight - learning_rate * gradient`"
   ]
  },
  {
   "cell_type": "markdown",
   "metadata": {},
   "source": [
    "### CNN for Classification"
   ]
  },
  {
   "cell_type": "code",
   "execution_count": 1,
   "metadata": {},
   "outputs": [],
   "source": [
    "import torch\n",
    "import torch.nn as nn\n",
    "import torch.nn.functional as F"
   ]
  },
  {
   "cell_type": "code",
   "execution_count": 2,
   "metadata": {},
   "outputs": [],
   "source": [
    "class Net(nn.Module): # inherit the nn.Module class\n",
    "    \n",
    "    def __init__(self):\n",
    "        super(Net, self).__init__() # to use the (layer class) functions from the parent class\n",
    "        \n",
    "        # Define the network architecture \n",
    "        # Just the layers !!!\n",
    "        # NOT how the input gets transformed into the output, that is described in the forward method\n",
    "        # Like Sequential API in keras\n",
    "        # Stack layers one on top of the other \n",
    "        \n",
    "        # single channel input, 6 filters each of size 5x5\n",
    "        self.conv1 = nn.Conv2d(in_channels=1, out_channels=6, kernel_size=5) \n",
    "        \n",
    "        self.conv2 = nn.Conv2d(6, 16, 5)\n",
    "        \n",
    "        self.fc1 = nn.Linear(in_features=16 * 4 * 4, out_features=120) \n",
    "        self.fc2 = nn.Linear(in_features=120, out_features=84)\n",
    "        self.fc3 = nn.Linear(in_features=84, out_features=10) # 10 digit classification \n",
    "        \n",
    "    def forward(self, x):\n",
    "        # Output of conv1 layer is sent to activation function\n",
    "        x = F.relu(self.conv1(x))\n",
    "        x = F.max_pool2d(input=x, kernel_size=(2,2))\n",
    "        \n",
    "        # Operations afer 2nd conv\n",
    "        x = F.relu(self.conv2(x))\n",
    "        x = F.max_pool2d(input=x, kernel_size=(2,2))\n",
    "        \n",
    "        # Flatten (by reshaping)\n",
    "        # -1 indicates torch to infer the other dimension\n",
    "        x = x.view(-1, self.num_flat_features(x)) # this function is defined below\n",
    "        \n",
    "        x = F.relu(self.fc1(x))\n",
    "        x = F.relu(self.fc2(x))\n",
    "        x = self.fc3(x) # No activation in final layer, i.e., just logits\n",
    "        \n",
    "        return x\n",
    "        \n",
    "    def num_flat_features(self, x):\n",
    "        # to get flattened dim, take product all dimensions except the batch dimension\n",
    "        size = x.size()[1:] \n",
    "        num_features = 1\n",
    "        for s in size:\n",
    "            num_features *= s\n",
    "        return num_features \n",
    "        "
   ]
  },
  {
   "cell_type": "code",
   "execution_count": 3,
   "metadata": {},
   "outputs": [
    {
     "name": "stdout",
     "output_type": "stream",
     "text": [
      "Net(\n",
      "  (conv1): Conv2d(1, 6, kernel_size=(5, 5), stride=(1, 1))\n",
      "  (conv2): Conv2d(6, 16, kernel_size=(5, 5), stride=(1, 1))\n",
      "  (fc1): Linear(in_features=256, out_features=120, bias=True)\n",
      "  (fc2): Linear(in_features=120, out_features=84, bias=True)\n",
      "  (fc3): Linear(in_features=84, out_features=10, bias=True)\n",
      ")\n"
     ]
    }
   ],
   "source": [
    "net = Net()\n",
    "print(net) # Summary of layers"
   ]
  },
  {
   "cell_type": "markdown",
   "metadata": {},
   "source": [
    "- we just have to define the `forward` function\n",
    "- the `backward` function (where gradients are computed) is automatically defined for you using `autograd`. You can use __any of the Tensor operations in the forward function__ when using the nn Module (without the need to explicitly mention `requires_grad`)."
   ]
  },
  {
   "cell_type": "markdown",
   "metadata": {},
   "source": [
    "To see the list of learnable parameters, "
   ]
  },
  {
   "cell_type": "code",
   "execution_count": 4,
   "metadata": {},
   "outputs": [
    {
     "name": "stdout",
     "output_type": "stream",
     "text": [
      "10\n",
      "Parameter containing:\n",
      "tensor([-0.0594, -0.0053, -0.0245,  0.0676, -0.0549,  0.0081, -0.0739, -0.0548,\n",
      "         0.0424, -0.0926], requires_grad=True)\n"
     ]
    }
   ],
   "source": [
    "params = list(net.parameters())\n",
    "print(len(params))\n",
    "print(params[-1]) # final layer weights (randomly initialized)"
   ]
  },
  {
   "cell_type": "code",
   "execution_count": 5,
   "metadata": {},
   "outputs": [
    {
     "name": "stdout",
     "output_type": "stream",
     "text": [
      "torch.Size([6, 1, 5, 5])\n"
     ]
    }
   ],
   "source": [
    "print(params[0].size())  # conv1's .weight, ie, 6 filters of size 5x5"
   ]
  },
  {
   "cell_type": "code",
   "execution_count": 6,
   "metadata": {},
   "outputs": [
    {
     "name": "stdout",
     "output_type": "stream",
     "text": [
      "tensor([[ 0.0139,  0.0244, -0.0532,  0.0404, -0.0990,  0.0367, -0.1207, -0.0957,\n",
      "          0.0036, -0.0849]], grad_fn=<ThAddmmBackward>)\n"
     ]
    }
   ],
   "source": [
    "inp = torch.randn(1, 1, 28, 28)\n",
    "out = net(inp)\n",
    "print(out)"
   ]
  },
  {
   "cell_type": "markdown",
   "metadata": {},
   "source": [
    "Every time a variable is back propagated through, the gradient will be __accumulated instead of being replaced.__ <br>\n",
    "So when starting out, we clear the buffers and start from scratch by:"
   ]
  },
  {
   "cell_type": "code",
   "execution_count": 7,
   "metadata": {},
   "outputs": [],
   "source": [
    "net.zero_grad()"
   ]
  },
  {
   "cell_type": "code",
   "execution_count": 8,
   "metadata": {},
   "outputs": [],
   "source": [
    "# We havent actually loaded the train x and y\n",
    "# And hence, do not have the loss calculated\n",
    "\n",
    "# So lets try backproping with RANDOM gradients\n",
    "out.backward(torch.randn(1, 10))"
   ]
  },
  {
   "cell_type": "markdown",
   "metadata": {},
   "source": [
    "### Loss Function"
   ]
  },
  {
   "cell_type": "code",
   "execution_count": 9,
   "metadata": {},
   "outputs": [
    {
     "name": "stdout",
     "output_type": "stream",
     "text": [
      "tensor(0.9638, grad_fn=<MseLossBackward>)\n"
     ]
    }
   ],
   "source": [
    "out = net(inp)\n",
    "target = torch.randn(10) # Dummy target\n",
    "target = target.view(1, -1) # make it [1, 10]\n",
    "\n",
    "criterion = nn.MSELoss()\n",
    "\n",
    "loss = criterion(out, target)\n",
    "print(loss) # Prints out the loss between the output and the dummy target from above"
   ]
  },
  {
   "cell_type": "markdown",
   "metadata": {},
   "source": [
    "So, when we call `loss.backward()`, the whole graph is differentiated w.r.t. the loss, and all Tensors in the graph that has `requires_grad=True` will have their `.grad` Tensor accumulated with the gradient."
   ]
  },
  {
   "cell_type": "markdown",
   "metadata": {},
   "source": [
    "Let us look a few steps backward"
   ]
  },
  {
   "cell_type": "code",
   "execution_count": 10,
   "metadata": {},
   "outputs": [
    {
     "name": "stdout",
     "output_type": "stream",
     "text": [
      "<MseLossBackward object at 0x7f6146754240>\n"
     ]
    }
   ],
   "source": [
    "print(loss.grad_fn)  # MSELoss"
   ]
  },
  {
   "cell_type": "code",
   "execution_count": 11,
   "metadata": {},
   "outputs": [
    {
     "name": "stdout",
     "output_type": "stream",
     "text": [
      "<ThAddmmBackward object at 0x7f61467542e8>\n"
     ]
    }
   ],
   "source": [
    "print(loss.grad_fn.next_functions[0][0])  # Linear"
   ]
  },
  {
   "cell_type": "code",
   "execution_count": 12,
   "metadata": {},
   "outputs": [
    {
     "name": "stdout",
     "output_type": "stream",
     "text": [
      "<ExpandBackward object at 0x7f61467545f8>\n"
     ]
    }
   ],
   "source": [
    "print(loss.grad_fn.next_functions[0][0].next_functions[0][0])  # ReLU"
   ]
  },
  {
   "cell_type": "markdown",
   "metadata": {},
   "source": [
    "### Backpropagation\n",
    "To backpropagate the error all we have to do is to `loss.backward()`. You need to clear the existing gradients though, else gradients will be accumulated to existing gradients."
   ]
  },
  {
   "cell_type": "code",
   "execution_count": 13,
   "metadata": {},
   "outputs": [
    {
     "name": "stdout",
     "output_type": "stream",
     "text": [
      "tensor([-0.0995,  0.0710, -0.0139, -0.0405,  0.0028, -0.0852])\n"
     ]
    }
   ],
   "source": [
    "# Has ACCUMULATED gradients from out.backward(torch.randn(1, 10)) ~!~!~!\n",
    "print(net.conv1.bias.grad) "
   ]
  },
  {
   "cell_type": "code",
   "execution_count": 14,
   "metadata": {},
   "outputs": [
    {
     "name": "stdout",
     "output_type": "stream",
     "text": [
      "conv1.bias.grad before backward propagation\n",
      "tensor([0., 0., 0., 0., 0., 0.])\n",
      "conv1.bias.grad after 1 step of backward prop gradient computation\n",
      "tensor([ 0.0013, -0.0170, -0.0096,  0.0104,  0.0117,  0.0125])\n"
     ]
    }
   ],
   "source": [
    "net.zero_grad()     # zeroes the gradient buffers of all parameters\n",
    "\n",
    "# Calculate gradient of a conv bias term wrt the above calculated loss\n",
    "print('conv1.bias.grad before backward propagation')\n",
    "print(net.conv1.bias.grad)\n",
    "\n",
    "loss.backward()\n",
    "\n",
    "print('conv1.bias.grad after 1 step of backward prop gradient computation')\n",
    "print(net.conv1.bias.grad)"
   ]
  },
  {
   "cell_type": "markdown",
   "metadata": {},
   "source": [
    "### Weight Update Process\n",
    "- Specify optimizer and learning rate"
   ]
  },
  {
   "cell_type": "code",
   "execution_count": 15,
   "metadata": {},
   "outputs": [],
   "source": [
    "import torch.optim as optim\n",
    "\n",
    "# create your optimizer\n",
    "optimizer = optim.SGD(params = net.parameters(), lr=0.01) # specify the parameters to be optimized\n",
    "\n",
    "# in your training loop:\n",
    "optimizer.zero_grad()   # zero the gradient buffers\n",
    "out = net(inp)\n",
    "\n",
    "loss = criterion(out, target)"
   ]
  },
  {
   "cell_type": "code",
   "execution_count": 16,
   "metadata": {},
   "outputs": [],
   "source": [
    "loss.backward() # compute gradients"
   ]
  },
  {
   "cell_type": "code",
   "execution_count": 17,
   "metadata": {},
   "outputs": [],
   "source": [
    "optimizer.step()    # Do the update: weight = weight - learning_rate * gradient"
   ]
  },
  {
   "cell_type": "code",
   "execution_count": null,
   "metadata": {},
   "outputs": [],
   "source": []
  }
 ],
 "metadata": {
  "kernelspec": {
   "display_name": "Python 3",
   "language": "python",
   "name": "python3"
  },
  "language_info": {
   "codemirror_mode": {
    "name": "ipython",
    "version": 3
   },
   "file_extension": ".py",
   "mimetype": "text/x-python",
   "name": "python",
   "nbconvert_exporter": "python",
   "pygments_lexer": "ipython3",
   "version": "3.6.1"
  }
 },
 "nbformat": 4,
 "nbformat_minor": 2
}
