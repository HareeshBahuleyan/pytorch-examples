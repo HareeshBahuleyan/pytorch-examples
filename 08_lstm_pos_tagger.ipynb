{
 "cells": [
  {
   "cell_type": "code",
   "execution_count": 1,
   "metadata": {},
   "outputs": [
    {
     "data": {
      "text/plain": [
       "<torch._C.Generator at 0x7fd8c11af730>"
      ]
     },
     "execution_count": 1,
     "metadata": {},
     "output_type": "execute_result"
    }
   ],
   "source": [
    "import torch\n",
    "import torch.nn as nn\n",
    "import torch.nn.functional as F\n",
    "import torch.optim as optim\n",
    "\n",
    "torch.manual_seed(1337)"
   ]
  },
  {
   "cell_type": "code",
   "execution_count": 2,
   "metadata": {},
   "outputs": [],
   "source": [
    "lstm = nn.LSTM(input_size=3, hidden_size=3, num_layers=1) \n",
    "# stack 2 lstms if needed, but specify that many number of initial values of the hidden state\n",
    "# check other arguments such as BIDIRECTIONAL and dropout \n",
    "\n",
    "inputs = [torch.randn(1, 3) for _ in range(5)] # create a sequence with length=5 "
   ]
  },
  {
   "cell_type": "code",
   "execution_count": 3,
   "metadata": {},
   "outputs": [
    {
     "data": {
      "text/plain": [
       "[tensor([[1.0517, 0.2501, 1.5759]]),\n",
       " tensor([[0.6495, 0.9631, 1.0905]]),\n",
       " tensor([[-0.4931, -0.9682, -0.1791]]),\n",
       " tensor([[ 0.2050, -0.7801, -1.0036]]),\n",
       " tensor([[ 0.0850,  1.0277, -0.3999]])]"
      ]
     },
     "execution_count": 3,
     "metadata": {},
     "output_type": "execute_result"
    }
   ],
   "source": [
    "inputs"
   ]
  },
  {
   "cell_type": "code",
   "execution_count": 4,
   "metadata": {},
   "outputs": [],
   "source": [
    "# randomly initialize the states\n",
    "hidden = (torch.randn(1,1,3), \n",
    "          torch.randn(1,1,3)) # c and h\n",
    "# [batchsize x max_length x dim_size] ?\n",
    "\n",
    "for i in inputs: # feed items in sequence, one by one. And compute hidden states\n",
    "    out, hidden = lstm(i.view(1,1,-1), hidden)"
   ]
  },
  {
   "cell_type": "code",
   "execution_count": 5,
   "metadata": {},
   "outputs": [
    {
     "data": {
      "text/plain": [
       "(tensor([[[-0.2300,  0.1136,  0.1939]]], grad_fn=<ViewBackward>),\n",
       " tensor([[[-0.5540,  0.2028,  0.3885]]], grad_fn=<ViewBackward>))"
      ]
     },
     "execution_count": 5,
     "metadata": {},
     "output_type": "execute_result"
    }
   ],
   "source": [
    "hidden # c and h"
   ]
  },
  {
   "cell_type": "code",
   "execution_count": 6,
   "metadata": {},
   "outputs": [
    {
     "data": {
      "text/plain": [
       "tensor([[[-0.2300,  0.1136,  0.1939]]], grad_fn=<CatBackward>)"
      ]
     },
     "execution_count": 6,
     "metadata": {},
     "output_type": "execute_result"
    }
   ],
   "source": [
    "out # y"
   ]
  },
  {
   "cell_type": "code",
   "execution_count": 7,
   "metadata": {},
   "outputs": [],
   "source": [
    "# alternatively, we can do the entire sequence all at once.\n",
    "# the first output 'out' is the h at each timestep\n",
    "# the second output 'hidden' is the h at the final timestep only\n",
    "\n",
    "inputs = torch.cat(inputs).view(len(inputs), 1, -1)\n",
    "\n",
    "# initialize hidden states\n",
    "hidden = (torch.randn(1, 1, 3),\n",
    "          torch.randn(1, 1, 3))\n"
   ]
  },
  {
   "cell_type": "code",
   "execution_count": 8,
   "metadata": {},
   "outputs": [
    {
     "data": {
      "text/plain": [
       "torch.Size([5, 1, 3])"
      ]
     },
     "execution_count": 8,
     "metadata": {},
     "output_type": "execute_result"
    }
   ],
   "source": [
    "inputs.shape # a single sequence of 5 words. \n",
    "# Note that in pytorch the second dim is the batch-size"
   ]
  },
  {
   "cell_type": "code",
   "execution_count": 9,
   "metadata": {},
   "outputs": [
    {
     "name": "stdout",
     "output_type": "stream",
     "text": [
      "torch.Size([5, 1, 3])\n"
     ]
    },
    {
     "data": {
      "text/plain": [
       "(tensor([[[-0.2393,  0.1125,  0.1946]]], grad_fn=<ViewBackward>),\n",
       " tensor([[[-0.5841,  0.1993,  0.3880]]], grad_fn=<ViewBackward>))"
      ]
     },
     "execution_count": 9,
     "metadata": {},
     "output_type": "execute_result"
    }
   ],
   "source": [
    "out, hidden = lstm(inputs, hidden)\n",
    "print(out.shape) # h at each timestep\n",
    "hidden  # the two items in the tuple corresponds to (h_N, c_N) "
   ]
  },
  {
   "cell_type": "markdown",
   "metadata": {},
   "source": [
    "### Data Preparation"
   ]
  },
  {
   "cell_type": "code",
   "execution_count": 10,
   "metadata": {},
   "outputs": [
    {
     "name": "stdout",
     "output_type": "stream",
     "text": [
      "{'The': 0, 'dog': 1, 'ate': 2, 'the': 3, 'apple': 4, 'Everybody': 5, 'read': 6, 'that': 7, 'book': 8}\n"
     ]
    }
   ],
   "source": [
    "def prepare_sequence(seq, to_ix):\n",
    "    idxs = [to_ix[w] for w in seq]\n",
    "    return torch.tensor(idxs, dtype=torch.long)\n",
    "\n",
    "\n",
    "training_data = [\n",
    "    (\"The dog ate the apple\".split(), [\"DET\", \"NN\", \"V\", \"DET\", \"NN\"]),\n",
    "    (\"Everybody read that book\".split(), [\"NN\", \"V\", \"DET\", \"NN\"])\n",
    "]\n",
    "word_to_ix = {}\n",
    "for sent, tags in training_data:\n",
    "    for word in sent:\n",
    "        if word not in word_to_ix:\n",
    "            word_to_ix[word] = len(word_to_ix)\n",
    "print(word_to_ix)\n",
    "tag_to_ix = {\"DET\": 0, \"NN\": 1, \"V\": 2}\n",
    "\n",
    "# These will usually be more like 32 or 64 dimensional.\n",
    "# We will keep them small, so we can see how the weights change as we train.\n",
    "EMBEDDING_DIM = 6\n",
    "HIDDEN_DIM = 6"
   ]
  },
  {
   "cell_type": "markdown",
   "metadata": {},
   "source": [
    "### LSTM Tagger Model"
   ]
  },
  {
   "cell_type": "code",
   "execution_count": 11,
   "metadata": {},
   "outputs": [],
   "source": [
    "class LSTMTagger(nn.Module):\n",
    "    \n",
    "    def __init__(self, embedding_dim, hidden_dim, vocab_size, tagset_size):\n",
    "        \n",
    "        super(LSTMTagger, self).__init__()\n",
    "        \n",
    "        self.hidden_dim = hidden_dim\n",
    "        \n",
    "        self.word_embeddings = nn.Embedding(num_embeddings=vocab_size, \n",
    "                                            embedding_dim=embedding_dim\n",
    "                                           )\n",
    "        \n",
    "        self.lstm = nn.LSTM(input_size=embedding_dim, hidden_size=hidden_dim)\n",
    "        \n",
    "        self.hidden2tag = nn.Linear(in_features=hidden_dim, \n",
    "                                    out_features=tagset_size)\n",
    "        \n",
    "        self.hidden = self.init_hidden() # reset hidden state after every input sequence\n",
    "        \n",
    "    def init_hidden(self):\n",
    "        \n",
    "        # random unif between these 2 values\n",
    "        r1 = -0.05\n",
    "        r2 = 0.05\n",
    "        h_0 = (r1 - r2) * torch.rand(1, 1, self.hidden_dim) + r2\n",
    "        c_0 = (r1 - r2) * torch.rand(1, 1, self.hidden_dim) + r2\n",
    "        return (h_0, c_0)\n",
    "        \n",
    "    def forward(self, sentence):\n",
    "        embeds = self.word_embeddings(sentence)\n",
    "        lstm_out, self.hidden = self.lstm(embeds.view(len(sentence), 1, -1), \n",
    "                                          self.hidden)\n",
    "        \n",
    "        # collapse the middle 'batch-size' dimension\n",
    "        tag_space = self.hidden2tag(lstm_out.view(len(sentence), -1))\n",
    "        tag_scores = F.log_softmax(tag_space, dim=1)\n",
    "        \n",
    "        return tag_scores\n",
    "    \n",
    "    "
   ]
  },
  {
   "cell_type": "markdown",
   "metadata": {},
   "source": [
    "### Model Training"
   ]
  },
  {
   "cell_type": "code",
   "execution_count": 12,
   "metadata": {},
   "outputs": [],
   "source": [
    "model = LSTMTagger(embedding_dim=EMBEDDING_DIM,\n",
    "                   hidden_dim=HIDDEN_DIM, \n",
    "                   vocab_size=len(word_to_ix),\n",
    "                   tagset_size=len(tag_to_ix)\n",
    "                  )\n",
    "\n",
    "loss_function = nn.NLLLoss() \n",
    "\n",
    "optimizer = optim.SGD(model.parameters(), lr=0.1)"
   ]
  },
  {
   "cell_type": "code",
   "execution_count": 13,
   "metadata": {},
   "outputs": [
    {
     "name": "stdout",
     "output_type": "stream",
     "text": [
      "tensor([[-0.9864, -1.1653, -1.1543],\n",
      "        [-1.0900, -1.1985, -1.0157],\n",
      "        [-1.0345, -1.2150, -1.0560],\n",
      "        [-0.9867, -1.2541, -1.0733],\n",
      "        [-1.0916, -1.2166, -0.9994]])\n"
     ]
    }
   ],
   "source": [
    "# before we start training\n",
    "# have a look at the score based on the randomly initialized values\n",
    "# in the output, [i, j] corresponds to the score for tag j while predicting for word i\n",
    "\n",
    "with torch.no_grad():\n",
    "    inputs = prepare_sequence(training_data[0][0], word_to_ix)\n",
    "    tag_scores = model(inputs)\n",
    "    print(tag_scores)"
   ]
  },
  {
   "cell_type": "code",
   "execution_count": 14,
   "metadata": {},
   "outputs": [],
   "source": [
    "for epoch in range(300):\n",
    "    for sentence, tags in training_data:\n",
    "        \n",
    "        # clear gradients before each iteration\n",
    "        model.zero_grad()\n",
    "        \n",
    "        # initialize hidden state\n",
    "        model.hidden = model.init_hidden()\n",
    "        \n",
    "        sentence_in = prepare_sequence(sentence, word_to_ix)\n",
    "        targets = prepare_sequence(tags, tag_to_ix)\n",
    "        \n",
    "        out_scores = model(sentence_in)\n",
    "        \n",
    "        loss = loss_function(out_scores, targets)\n",
    "        loss.backward()\n",
    "        optimizer.step()"
   ]
  },
  {
   "cell_type": "markdown",
   "metadata": {},
   "source": [
    "### Inference Time"
   ]
  },
  {
   "cell_type": "code",
   "execution_count": 15,
   "metadata": {},
   "outputs": [
    {
     "name": "stdout",
     "output_type": "stream",
     "text": [
      "tensor([[0],\n",
      "        [1],\n",
      "        [2],\n",
      "        [0],\n",
      "        [1]])\n"
     ]
    }
   ],
   "source": [
    "with torch.no_grad():\n",
    "    inputs = prepare_sequence(training_data[0][0], word_to_ix) \n",
    "    tag_scores = model(inputs)\n",
    "    tag_scores = tag_scores.topk(k=1, dim=1)\n",
    "    tags = tag_scores[1]\n",
    "\n",
    "print(tags)"
   ]
  },
  {
   "cell_type": "code",
   "execution_count": 16,
   "metadata": {},
   "outputs": [
    {
     "data": {
      "text/plain": [
       "{'DET': 0, 'NN': 1, 'V': 2}"
      ]
     },
     "execution_count": 16,
     "metadata": {},
     "output_type": "execute_result"
    }
   ],
   "source": [
    "tag_to_ix"
   ]
  },
  {
   "cell_type": "code",
   "execution_count": null,
   "metadata": {},
   "outputs": [],
   "source": []
  }
 ],
 "metadata": {
  "kernelspec": {
   "display_name": "Python 3",
   "language": "python",
   "name": "python3"
  },
  "language_info": {
   "codemirror_mode": {
    "name": "ipython",
    "version": 3
   },
   "file_extension": ".py",
   "mimetype": "text/x-python",
   "name": "python",
   "nbconvert_exporter": "python",
   "pygments_lexer": "ipython3",
   "version": "3.6.1"
  }
 },
 "nbformat": 4,
 "nbformat_minor": 2
}
